{
 "cells": [
  {
   "cell_type": "markdown",
   "metadata": {},
   "source": [
    "# VacationPy\n",
    "----\n",
    "\n",
    "#### Note\n",
    "* Instructions have been included for each segment. You do not have to follow them exactly, but they are included to help you think through the steps."
   ]
  },
  {
   "cell_type": "code",
   "execution_count": 1,
   "metadata": {},
   "outputs": [],
   "source": [
    "# Dependencies and Setup\n",
    "import matplotlib.pyplot as plt\n",
    "import pandas as pd\n",
    "import numpy as np\n",
    "import requests\n",
    "import gmaps\n",
    "import os\n",
    "import time\n",
    "\n",
    "# Import API key\n",
    "from api_keys import g_key"
   ]
  },
  {
   "cell_type": "markdown",
   "metadata": {},
   "source": [
    "### Store Part I results into DataFrame\n",
    "* Load the csv exported in Part I to a DataFrame"
   ]
  },
  {
   "cell_type": "code",
   "execution_count": 2,
   "metadata": {},
   "outputs": [],
   "source": [
    "#Load csv into dataframe\n",
    "cities_df = pd.read_csv('output_data/cities.csv')"
   ]
  },
  {
   "cell_type": "markdown",
   "metadata": {},
   "source": [
    "### Humidity Heatmap\n",
    "* Configure gmaps.\n",
    "* Use the Lat and Lng as locations and Humidity as the weight.\n",
    "* Add Heatmap layer to map."
   ]
  },
  {
   "cell_type": "code",
   "execution_count": 3,
   "metadata": {},
   "outputs": [],
   "source": [
    "#Configure g_key\n",
    "gmaps.configure(api_key=g_key)"
   ]
  },
  {
   "cell_type": "code",
   "execution_count": 4,
   "metadata": {},
   "outputs": [
    {
     "data": {
      "application/vnd.jupyter.widget-view+json": {
       "model_id": "7a53196923b6471d88c0661604fd663d",
       "version_major": 2,
       "version_minor": 0
      },
      "text/plain": [
       "Figure(layout=FigureLayout(height='420px'))"
      ]
     },
     "metadata": {},
     "output_type": "display_data"
    }
   ],
   "source": [
    "#Create Heatmap\n",
    "locations = cities_df[[\"Lat\", \"Lon\"]]\n",
    "humidity = cities_df[\"Humidity\"]\n",
    "\n",
    "figure = gmaps.figure()\n",
    "heatmap = gmaps.heatmap_layer(locations, weights = humidity, dissipating = False, max_intensity = 250, point_radius = 4)\n",
    "figure.add_layer(heatmap)\n",
    "figure"
   ]
  },
  {
   "cell_type": "markdown",
   "metadata": {},
   "source": [
    "### Create new DataFrame fitting weather criteria\n",
    "* Narrow down the cities to fit weather conditions.\n",
    "* Drop any rows will null values."
   ]
  },
  {
   "cell_type": "code",
   "execution_count": 5,
   "metadata": {},
   "outputs": [],
   "source": [
    "#Narrow down cities to desired criteria\n",
    "narrowed_cities_df = cities_df.loc[(cities_df[\"Max Temp\"] <80) & (cities_df[\"Max Temp\"]  >70) \n",
    "                                   & (cities_df[\"Windspeed\"] < 10) & (cities_df[\"Cloudiness\"] == 0)]"
   ]
  },
  {
   "cell_type": "markdown",
   "metadata": {},
   "source": [
    "### Hotel Map\n",
    "* Store into variable named `hotel_df`.\n",
    "* Add a \"Hotel Name\" column to the DataFrame.\n",
    "* Set parameters to search for hotels with 5000 meters.\n",
    "* Hit the Google Places API for each city's coordinates.\n",
    "* Store the first Hotel result into the DataFrame.\n",
    "* Plot markers on top of the heatmap."
   ]
  },
  {
   "cell_type": "code",
   "execution_count": 6,
   "metadata": {},
   "outputs": [
    {
     "name": "stderr",
     "output_type": "stream",
     "text": [
      "/opt/anaconda3/envs/NewPythonData/lib/python3.6/site-packages/ipykernel_launcher.py:3: SettingWithCopyWarning: \n",
      "A value is trying to be set on a copy of a slice from a DataFrame.\n",
      "Try using .loc[row_indexer,col_indexer] = value instead\n",
      "\n",
      "See the caveats in the documentation: https://pandas.pydata.org/pandas-docs/stable/user_guide/indexing.html#returning-a-view-versus-a-copy\n",
      "  This is separate from the ipykernel package so we can avoid doing imports until\n"
     ]
    }
   ],
   "source": [
    "#Create dataframe with hotel column\n",
    "hotel_df = narrowed_cities_df[[\"City\", \"Country\", \"Lat\", \"Lon\"]]\n",
    "hotel_df[\"Hotel Name\"] = \"\""
   ]
  },
  {
   "cell_type": "code",
   "execution_count": 7,
   "metadata": {},
   "outputs": [
    {
     "name": "stdout",
     "output_type": "stream",
     "text": [
      "Mishan Hotel\n",
      "昆明佳华广场酒店\n",
      "Marè Resort\n",
      "Gondolas Forum grandchildren and grandparents\n",
      "Hotel San Domenico\n",
      "list index out of range\n",
      "Gostinitsa Aray\n",
      "安顺麦吉风格酒店\n",
      "City Hotel\n",
      "Casa Das Faias\n",
      "Aracati Hotel\n",
      "Bahiadomizil\n",
      "El Medina\n"
     ]
    }
   ],
   "source": [
    "#Design and execute api search for hotels\n",
    "url = \"https://maps.googleapis.com/maps/api/place/nearbysearch/json?\"\n",
    "\n",
    "for index, row in hotel_df.iterrows():\n",
    "    lat= row[\"Lat\"]\n",
    "    lng= row[\"Lon\"]\n",
    "    \n",
    "    query_url = (f\"{url}key={g_key}&location={lat},{lng}&radius=5000&type=lodging\")\n",
    "\n",
    "    try:\n",
    "        time.sleep(1)\n",
    "        response = requests.get(query_url).json()\n",
    "        \n",
    "        hotel_name = response[\"results\"][0][\"name\"]\n",
    "        print(hotel_name)\n",
    "        \n",
    "        #Fill dataframe with responses\n",
    "        hotel_df.at[index,\"Hotel Name\"] = hotel_name\n",
    "         \n",
    "    except Exception as e:\n",
    "\n",
    "        hotel_df.at[index,\"Hotel Name\"] = \"no hotel found\"\n",
    "        print(e)\n"
   ]
  },
  {
   "cell_type": "code",
   "execution_count": 8,
   "metadata": {},
   "outputs": [
    {
     "data": {
      "text/html": [
       "<div>\n",
       "<style scoped>\n",
       "    .dataframe tbody tr th:only-of-type {\n",
       "        vertical-align: middle;\n",
       "    }\n",
       "\n",
       "    .dataframe tbody tr th {\n",
       "        vertical-align: top;\n",
       "    }\n",
       "\n",
       "    .dataframe thead th {\n",
       "        text-align: right;\n",
       "    }\n",
       "</style>\n",
       "<table border=\"1\" class=\"dataframe\">\n",
       "  <thead>\n",
       "    <tr style=\"text-align: right;\">\n",
       "      <th></th>\n",
       "      <th>City</th>\n",
       "      <th>Country</th>\n",
       "      <th>Lat</th>\n",
       "      <th>Lon</th>\n",
       "      <th>Hotel Name</th>\n",
       "    </tr>\n",
       "  </thead>\n",
       "  <tbody>\n",
       "    <tr>\n",
       "      <th>61</th>\n",
       "      <td>mishan</td>\n",
       "      <td>CN</td>\n",
       "      <td>45.55</td>\n",
       "      <td>131.88</td>\n",
       "      <td>Mishan Hotel</td>\n",
       "    </tr>\n",
       "    <tr>\n",
       "      <th>114</th>\n",
       "      <td>kunming</td>\n",
       "      <td>CN</td>\n",
       "      <td>25.04</td>\n",
       "      <td>102.72</td>\n",
       "      <td>昆明佳华广场酒店</td>\n",
       "    </tr>\n",
       "    <tr>\n",
       "      <th>175</th>\n",
       "      <td>trani</td>\n",
       "      <td>IT</td>\n",
       "      <td>41.27</td>\n",
       "      <td>16.42</td>\n",
       "      <td>Marè Resort</td>\n",
       "    </tr>\n",
       "    <tr>\n",
       "      <th>271</th>\n",
       "      <td>salamiyah</td>\n",
       "      <td>SY</td>\n",
       "      <td>35.01</td>\n",
       "      <td>37.05</td>\n",
       "      <td>Gondolas Forum grandchildren and grandparents</td>\n",
       "    </tr>\n",
       "    <tr>\n",
       "      <th>291</th>\n",
       "      <td>soverato</td>\n",
       "      <td>IT</td>\n",
       "      <td>38.69</td>\n",
       "      <td>16.55</td>\n",
       "      <td>Hotel San Domenico</td>\n",
       "    </tr>\n",
       "    <tr>\n",
       "      <th>343</th>\n",
       "      <td>mayor pablo lagerenza</td>\n",
       "      <td>PY</td>\n",
       "      <td>-19.93</td>\n",
       "      <td>-60.77</td>\n",
       "      <td>no hotel found</td>\n",
       "    </tr>\n",
       "    <tr>\n",
       "      <th>413</th>\n",
       "      <td>zaysan</td>\n",
       "      <td>KZ</td>\n",
       "      <td>47.47</td>\n",
       "      <td>84.87</td>\n",
       "      <td>Gostinitsa Aray</td>\n",
       "    </tr>\n",
       "    <tr>\n",
       "      <th>428</th>\n",
       "      <td>anshun</td>\n",
       "      <td>CN</td>\n",
       "      <td>26.25</td>\n",
       "      <td>105.93</td>\n",
       "      <td>安顺麦吉风格酒店</td>\n",
       "    </tr>\n",
       "    <tr>\n",
       "      <th>506</th>\n",
       "      <td>surt</td>\n",
       "      <td>LY</td>\n",
       "      <td>31.21</td>\n",
       "      <td>16.59</td>\n",
       "      <td>City Hotel</td>\n",
       "    </tr>\n",
       "    <tr>\n",
       "      <th>525</th>\n",
       "      <td>lagoa</td>\n",
       "      <td>PT</td>\n",
       "      <td>39.05</td>\n",
       "      <td>-27.98</td>\n",
       "      <td>Casa Das Faias</td>\n",
       "    </tr>\n",
       "    <tr>\n",
       "      <th>526</th>\n",
       "      <td>tefe</td>\n",
       "      <td>BR</td>\n",
       "      <td>-3.35</td>\n",
       "      <td>-64.71</td>\n",
       "      <td>Aracati Hotel</td>\n",
       "    </tr>\n",
       "    <tr>\n",
       "      <th>542</th>\n",
       "      <td>canavieiras</td>\n",
       "      <td>BR</td>\n",
       "      <td>-15.68</td>\n",
       "      <td>-38.95</td>\n",
       "      <td>Bahiadomizil</td>\n",
       "    </tr>\n",
       "    <tr>\n",
       "      <th>556</th>\n",
       "      <td>nouadhibou</td>\n",
       "      <td>MR</td>\n",
       "      <td>20.93</td>\n",
       "      <td>-17.03</td>\n",
       "      <td>El Medina</td>\n",
       "    </tr>\n",
       "  </tbody>\n",
       "</table>\n",
       "</div>"
      ],
      "text/plain": [
       "                      City Country    Lat     Lon  \\\n",
       "61                  mishan      CN  45.55  131.88   \n",
       "114                kunming      CN  25.04  102.72   \n",
       "175                  trani      IT  41.27   16.42   \n",
       "271              salamiyah      SY  35.01   37.05   \n",
       "291               soverato      IT  38.69   16.55   \n",
       "343  mayor pablo lagerenza      PY -19.93  -60.77   \n",
       "413                 zaysan      KZ  47.47   84.87   \n",
       "428                 anshun      CN  26.25  105.93   \n",
       "506                   surt      LY  31.21   16.59   \n",
       "525                  lagoa      PT  39.05  -27.98   \n",
       "526                   tefe      BR  -3.35  -64.71   \n",
       "542            canavieiras      BR -15.68  -38.95   \n",
       "556             nouadhibou      MR  20.93  -17.03   \n",
       "\n",
       "                                        Hotel Name  \n",
       "61                                    Mishan Hotel  \n",
       "114                                       昆明佳华广场酒店  \n",
       "175                                    Marè Resort  \n",
       "271  Gondolas Forum grandchildren and grandparents  \n",
       "291                             Hotel San Domenico  \n",
       "343                                 no hotel found  \n",
       "413                                Gostinitsa Aray  \n",
       "428                                       安顺麦吉风格酒店  \n",
       "506                                     City Hotel  \n",
       "525                                 Casa Das Faias  \n",
       "526                                  Aracati Hotel  \n",
       "542                                   Bahiadomizil  \n",
       "556                                      El Medina  "
      ]
     },
     "execution_count": 8,
     "metadata": {},
     "output_type": "execute_result"
    }
   ],
   "source": [
    "#Display dataframe of cities and their nearby hotel\n",
    "hotel_df"
   ]
  },
  {
   "cell_type": "code",
   "execution_count": 9,
   "metadata": {},
   "outputs": [
    {
     "data": {
      "text/html": [
       "<div>\n",
       "<style scoped>\n",
       "    .dataframe tbody tr th:only-of-type {\n",
       "        vertical-align: middle;\n",
       "    }\n",
       "\n",
       "    .dataframe tbody tr th {\n",
       "        vertical-align: top;\n",
       "    }\n",
       "\n",
       "    .dataframe thead th {\n",
       "        text-align: right;\n",
       "    }\n",
       "</style>\n",
       "<table border=\"1\" class=\"dataframe\">\n",
       "  <thead>\n",
       "    <tr style=\"text-align: right;\">\n",
       "      <th></th>\n",
       "      <th>City</th>\n",
       "      <th>Country</th>\n",
       "      <th>Lat</th>\n",
       "      <th>Lon</th>\n",
       "      <th>Hotel Name</th>\n",
       "    </tr>\n",
       "  </thead>\n",
       "  <tbody>\n",
       "    <tr>\n",
       "      <th>61</th>\n",
       "      <td>mishan</td>\n",
       "      <td>CN</td>\n",
       "      <td>45.55</td>\n",
       "      <td>131.88</td>\n",
       "      <td>Mishan Hotel</td>\n",
       "    </tr>\n",
       "    <tr>\n",
       "      <th>114</th>\n",
       "      <td>kunming</td>\n",
       "      <td>CN</td>\n",
       "      <td>25.04</td>\n",
       "      <td>102.72</td>\n",
       "      <td>昆明佳华广场酒店</td>\n",
       "    </tr>\n",
       "    <tr>\n",
       "      <th>175</th>\n",
       "      <td>trani</td>\n",
       "      <td>IT</td>\n",
       "      <td>41.27</td>\n",
       "      <td>16.42</td>\n",
       "      <td>Marè Resort</td>\n",
       "    </tr>\n",
       "    <tr>\n",
       "      <th>271</th>\n",
       "      <td>salamiyah</td>\n",
       "      <td>SY</td>\n",
       "      <td>35.01</td>\n",
       "      <td>37.05</td>\n",
       "      <td>Gondolas Forum grandchildren and grandparents</td>\n",
       "    </tr>\n",
       "    <tr>\n",
       "      <th>291</th>\n",
       "      <td>soverato</td>\n",
       "      <td>IT</td>\n",
       "      <td>38.69</td>\n",
       "      <td>16.55</td>\n",
       "      <td>Hotel San Domenico</td>\n",
       "    </tr>\n",
       "    <tr>\n",
       "      <th>413</th>\n",
       "      <td>zaysan</td>\n",
       "      <td>KZ</td>\n",
       "      <td>47.47</td>\n",
       "      <td>84.87</td>\n",
       "      <td>Gostinitsa Aray</td>\n",
       "    </tr>\n",
       "    <tr>\n",
       "      <th>428</th>\n",
       "      <td>anshun</td>\n",
       "      <td>CN</td>\n",
       "      <td>26.25</td>\n",
       "      <td>105.93</td>\n",
       "      <td>安顺麦吉风格酒店</td>\n",
       "    </tr>\n",
       "    <tr>\n",
       "      <th>506</th>\n",
       "      <td>surt</td>\n",
       "      <td>LY</td>\n",
       "      <td>31.21</td>\n",
       "      <td>16.59</td>\n",
       "      <td>City Hotel</td>\n",
       "    </tr>\n",
       "    <tr>\n",
       "      <th>525</th>\n",
       "      <td>lagoa</td>\n",
       "      <td>PT</td>\n",
       "      <td>39.05</td>\n",
       "      <td>-27.98</td>\n",
       "      <td>Casa Das Faias</td>\n",
       "    </tr>\n",
       "    <tr>\n",
       "      <th>526</th>\n",
       "      <td>tefe</td>\n",
       "      <td>BR</td>\n",
       "      <td>-3.35</td>\n",
       "      <td>-64.71</td>\n",
       "      <td>Aracati Hotel</td>\n",
       "    </tr>\n",
       "    <tr>\n",
       "      <th>542</th>\n",
       "      <td>canavieiras</td>\n",
       "      <td>BR</td>\n",
       "      <td>-15.68</td>\n",
       "      <td>-38.95</td>\n",
       "      <td>Bahiadomizil</td>\n",
       "    </tr>\n",
       "    <tr>\n",
       "      <th>556</th>\n",
       "      <td>nouadhibou</td>\n",
       "      <td>MR</td>\n",
       "      <td>20.93</td>\n",
       "      <td>-17.03</td>\n",
       "      <td>El Medina</td>\n",
       "    </tr>\n",
       "  </tbody>\n",
       "</table>\n",
       "</div>"
      ],
      "text/plain": [
       "            City Country    Lat     Lon  \\\n",
       "61        mishan      CN  45.55  131.88   \n",
       "114      kunming      CN  25.04  102.72   \n",
       "175        trani      IT  41.27   16.42   \n",
       "271    salamiyah      SY  35.01   37.05   \n",
       "291     soverato      IT  38.69   16.55   \n",
       "413       zaysan      KZ  47.47   84.87   \n",
       "428       anshun      CN  26.25  105.93   \n",
       "506         surt      LY  31.21   16.59   \n",
       "525        lagoa      PT  39.05  -27.98   \n",
       "526         tefe      BR  -3.35  -64.71   \n",
       "542  canavieiras      BR -15.68  -38.95   \n",
       "556   nouadhibou      MR  20.93  -17.03   \n",
       "\n",
       "                                        Hotel Name  \n",
       "61                                    Mishan Hotel  \n",
       "114                                       昆明佳华广场酒店  \n",
       "175                                    Marè Resort  \n",
       "271  Gondolas Forum grandchildren and grandparents  \n",
       "291                             Hotel San Domenico  \n",
       "413                                Gostinitsa Aray  \n",
       "428                                       安顺麦吉风格酒店  \n",
       "506                                     City Hotel  \n",
       "525                                 Casa Das Faias  \n",
       "526                                  Aracati Hotel  \n",
       "542                                   Bahiadomizil  \n",
       "556                                      El Medina  "
      ]
     },
     "execution_count": 9,
     "metadata": {},
     "output_type": "execute_result"
    }
   ],
   "source": [
    "#Remove Cities for which there are no nearby hotels\n",
    "hotel_df = hotel_df.loc[hotel_df[\"Hotel Name\"]!= \"no hotel found\"]\n",
    "hotel_df"
   ]
  },
  {
   "cell_type": "code",
   "execution_count": 10,
   "metadata": {},
   "outputs": [],
   "source": [
    "# NOTE: Do not change any of the code in this cell\n",
    "\n",
    "# Using the template add the hotel marks to the heatmap\n",
    "info_box_template = \"\"\"\n",
    "<dl>\n",
    "<dt>Name</dt><dd>{Hotel Name}</dd>\n",
    "<dt>City</dt><dd>{City}</dd>\n",
    "<dt>Country</dt><dd>{Country}</dd>\n",
    "</dl>\n",
    "\"\"\"\n",
    "# Store the DataFrame Row\n",
    "# NOTE: be sure to update with your DataFrame name\n",
    "hotel_info = [info_box_template.format(**row) for index, row in hotel_df.iterrows()]\n",
    "locations2 = hotel_df[[\"Lat\", \"Lon\"]]"
   ]
  },
  {
   "cell_type": "code",
   "execution_count": 13,
   "metadata": {},
   "outputs": [
    {
     "data": {
      "application/vnd.jupyter.widget-view+json": {
       "model_id": "ec357eca5de34ec3b1c7255a517e40eb",
       "version_major": 2,
       "version_minor": 0
      },
      "text/plain": [
       "Figure(layout=FigureLayout(height='420px'))"
      ]
     },
     "metadata": {},
     "output_type": "display_data"
    }
   ],
   "source": [
    "# Add marker layer ontop of heat map\n",
    "\n",
    "fig = gmaps.figure()\n",
    "hotel_layer = gmaps.marker_layer(locations2,\n",
    "                                 info_box_content=hotel_info)\n",
    "fig.add_layer(heatmap)\n",
    "fig.add_layer(hotel_layer)\n",
    "# Display figure\n",
    "fig\n"
   ]
  },
  {
   "cell_type": "code",
   "execution_count": null,
   "metadata": {},
   "outputs": [],
   "source": []
  }
 ],
 "metadata": {
  "kernelspec": {
   "display_name": "Python 3",
   "language": "python",
   "name": "python3"
  },
  "language_info": {
   "codemirror_mode": {
    "name": "ipython",
    "version": 3
   },
   "file_extension": ".py",
   "mimetype": "text/x-python",
   "name": "python",
   "nbconvert_exporter": "python",
   "pygments_lexer": "ipython3",
   "version": "3.6.10"
  },
  "latex_envs": {
   "LaTeX_envs_menu_present": true,
   "autoclose": false,
   "autocomplete": true,
   "bibliofile": "biblio.bib",
   "cite_by": "apalike",
   "current_citInitial": 1,
   "eqLabelWithNumbers": true,
   "eqNumInitial": 1,
   "hotkeys": {
    "equation": "Ctrl-E",
    "itemize": "Ctrl-I"
   },
   "labels_anchors": false,
   "latex_user_defs": false,
   "report_style_numbering": false,
   "user_envs_cfg": false
  }
 },
 "nbformat": 4,
 "nbformat_minor": 2
}
